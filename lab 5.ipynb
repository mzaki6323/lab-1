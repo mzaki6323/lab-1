{
 "cells": [
  {
   "cell_type": "code",
   "execution_count": 4,
   "id": "initial_id",
   "metadata": {
    "collapsed": true,
    "ExecuteTime": {
     "end_time": "2024-03-28T23:00:53.237880Z",
     "start_time": "2024-03-28T23:00:48.791760Z"
    }
   },
   "outputs": [
    {
     "name": "stdout",
     "output_type": "stream",
     "text": [
      "1. Summary of the dataset:\n",
      "<class 'pandas.core.frame.DataFrame'>\n",
      "RangeIndex: 891 entries, 0 to 890\n",
      "Data columns (total 16 columns):\n",
      " #   Column       Non-Null Count  Dtype  \n",
      "---  ------       --------------  -----  \n",
      " 0   survived     891 non-null    int64  \n",
      " 1   pclass       891 non-null    int64  \n",
      " 2   sex          891 non-null    object \n",
      " 3   age          714 non-null    float64\n",
      " 4   sibsp        891 non-null    int64  \n",
      " 5   parch        891 non-null    int64  \n",
      " 6   fare         891 non-null    float64\n",
      " 7   embarked     889 non-null    object \n",
      " 8   class        891 non-null    object \n",
      " 9   who          891 non-null    object \n",
      " 10  adult_male   891 non-null    bool   \n",
      " 11  deck         203 non-null    object \n",
      " 12  embark_town  889 non-null    object \n",
      " 13  alive        891 non-null    object \n",
      " 14  alone        891 non-null    bool   \n",
      " 15  Unnamed: 15  0 non-null      float64\n",
      "dtypes: bool(2), float64(3), int64(4), object(7)\n",
      "memory usage: 99.3+ KB\n",
      "None\n",
      "\n",
      "2. Column labels:\n",
      "Index(['survived', 'pclass', 'sex', 'age', 'sibsp', 'parch', 'fare',\n",
      "       'embarked', 'class', 'who', 'adult_male', 'deck', 'embark_town',\n",
      "       'alive', 'alone', 'Unnamed: 15'],\n",
      "      dtype='object')\n",
      "\n",
      "Shape of the dataset:\n",
      "(891, 16)\n",
      "\n",
      "Data types of the dataset:\n",
      "survived         int64\n",
      "pclass           int64\n",
      "sex             object\n",
      "age            float64\n",
      "sibsp            int64\n",
      "parch            int64\n",
      "fare           float64\n",
      "embarked        object\n",
      "class           object\n",
      "who             object\n",
      "adult_male        bool\n",
      "deck            object\n",
      "embark_town     object\n",
      "alive           object\n",
      "alone             bool\n",
      "Unnamed: 15    float64\n",
      "dtype: object\n",
      "\n",
      "3. Pivot table with multiple indexes:\n"
     ]
    },
    {
     "ename": "KeyError",
     "evalue": "'Sex'",
     "output_type": "error",
     "traceback": [
      "\u001B[1;31m---------------------------------------------------------------------------\u001B[0m",
      "\u001B[1;31mKeyError\u001B[0m                                  Traceback (most recent call last)",
      "Cell \u001B[1;32mIn[4], line 20\u001B[0m\n\u001B[0;32m     18\u001B[0m \u001B[38;5;66;03m# 3. Create a Pivot table with multiple indexes\u001B[39;00m\n\u001B[0;32m     19\u001B[0m \u001B[38;5;28mprint\u001B[39m(\u001B[38;5;124m\"\u001B[39m\u001B[38;5;130;01m\\n\u001B[39;00m\u001B[38;5;124m3. Pivot table with multiple indexes:\u001B[39m\u001B[38;5;124m\"\u001B[39m)\n\u001B[1;32m---> 20\u001B[0m pivot_table_multi_index \u001B[38;5;241m=\u001B[39m titanic_data\u001B[38;5;241m.\u001B[39mpivot_table(index\u001B[38;5;241m=\u001B[39m[\u001B[38;5;124m'\u001B[39m\u001B[38;5;124mSex\u001B[39m\u001B[38;5;124m'\u001B[39m, \u001B[38;5;124m'\u001B[39m\u001B[38;5;124mPclass\u001B[39m\u001B[38;5;124m'\u001B[39m])\n\u001B[0;32m     21\u001B[0m \u001B[38;5;28mprint\u001B[39m(pivot_table_multi_index)\n\u001B[0;32m     23\u001B[0m \u001B[38;5;66;03m# 4. Create a Pivot table and find survival rate by gender on various classes\u001B[39;00m\n",
      "File \u001B[1;32m~\\anaconda3\\Lib\\site-packages\\pandas\\core\\frame.py:9190\u001B[0m, in \u001B[0;36mDataFrame.pivot_table\u001B[1;34m(self, values, index, columns, aggfunc, fill_value, margins, dropna, margins_name, observed, sort)\u001B[0m\n\u001B[0;32m   9173\u001B[0m \u001B[38;5;129m@Substitution\u001B[39m(\u001B[38;5;124m\"\u001B[39m\u001B[38;5;124m\"\u001B[39m)\n\u001B[0;32m   9174\u001B[0m \u001B[38;5;129m@Appender\u001B[39m(_shared_docs[\u001B[38;5;124m\"\u001B[39m\u001B[38;5;124mpivot_table\u001B[39m\u001B[38;5;124m\"\u001B[39m])\n\u001B[0;32m   9175\u001B[0m \u001B[38;5;28;01mdef\u001B[39;00m \u001B[38;5;21mpivot_table\u001B[39m(\n\u001B[1;32m   (...)\u001B[0m\n\u001B[0;32m   9186\u001B[0m     sort: \u001B[38;5;28mbool\u001B[39m \u001B[38;5;241m=\u001B[39m \u001B[38;5;28;01mTrue\u001B[39;00m,\n\u001B[0;32m   9187\u001B[0m ) \u001B[38;5;241m-\u001B[39m\u001B[38;5;241m>\u001B[39m DataFrame:\n\u001B[0;32m   9188\u001B[0m     \u001B[38;5;28;01mfrom\u001B[39;00m \u001B[38;5;21;01mpandas\u001B[39;00m\u001B[38;5;21;01m.\u001B[39;00m\u001B[38;5;21;01mcore\u001B[39;00m\u001B[38;5;21;01m.\u001B[39;00m\u001B[38;5;21;01mreshape\u001B[39;00m\u001B[38;5;21;01m.\u001B[39;00m\u001B[38;5;21;01mpivot\u001B[39;00m \u001B[38;5;28;01mimport\u001B[39;00m pivot_table\n\u001B[1;32m-> 9190\u001B[0m     \u001B[38;5;28;01mreturn\u001B[39;00m pivot_table(\n\u001B[0;32m   9191\u001B[0m         \u001B[38;5;28mself\u001B[39m,\n\u001B[0;32m   9192\u001B[0m         values\u001B[38;5;241m=\u001B[39mvalues,\n\u001B[0;32m   9193\u001B[0m         index\u001B[38;5;241m=\u001B[39mindex,\n\u001B[0;32m   9194\u001B[0m         columns\u001B[38;5;241m=\u001B[39mcolumns,\n\u001B[0;32m   9195\u001B[0m         aggfunc\u001B[38;5;241m=\u001B[39maggfunc,\n\u001B[0;32m   9196\u001B[0m         fill_value\u001B[38;5;241m=\u001B[39mfill_value,\n\u001B[0;32m   9197\u001B[0m         margins\u001B[38;5;241m=\u001B[39mmargins,\n\u001B[0;32m   9198\u001B[0m         dropna\u001B[38;5;241m=\u001B[39mdropna,\n\u001B[0;32m   9199\u001B[0m         margins_name\u001B[38;5;241m=\u001B[39mmargins_name,\n\u001B[0;32m   9200\u001B[0m         observed\u001B[38;5;241m=\u001B[39mobserved,\n\u001B[0;32m   9201\u001B[0m         sort\u001B[38;5;241m=\u001B[39msort,\n\u001B[0;32m   9202\u001B[0m     )\n",
      "File \u001B[1;32m~\\anaconda3\\Lib\\site-packages\\pandas\\core\\reshape\\pivot.py:99\u001B[0m, in \u001B[0;36mpivot_table\u001B[1;34m(data, values, index, columns, aggfunc, fill_value, margins, dropna, margins_name, observed, sort)\u001B[0m\n\u001B[0;32m     96\u001B[0m     table \u001B[38;5;241m=\u001B[39m concat(pieces, keys\u001B[38;5;241m=\u001B[39mkeys, axis\u001B[38;5;241m=\u001B[39m\u001B[38;5;241m1\u001B[39m)\n\u001B[0;32m     97\u001B[0m     \u001B[38;5;28;01mreturn\u001B[39;00m table\u001B[38;5;241m.\u001B[39m__finalize__(data, method\u001B[38;5;241m=\u001B[39m\u001B[38;5;124m\"\u001B[39m\u001B[38;5;124mpivot_table\u001B[39m\u001B[38;5;124m\"\u001B[39m)\n\u001B[1;32m---> 99\u001B[0m table \u001B[38;5;241m=\u001B[39m __internal_pivot_table(\n\u001B[0;32m    100\u001B[0m     data,\n\u001B[0;32m    101\u001B[0m     values,\n\u001B[0;32m    102\u001B[0m     index,\n\u001B[0;32m    103\u001B[0m     columns,\n\u001B[0;32m    104\u001B[0m     aggfunc,\n\u001B[0;32m    105\u001B[0m     fill_value,\n\u001B[0;32m    106\u001B[0m     margins,\n\u001B[0;32m    107\u001B[0m     dropna,\n\u001B[0;32m    108\u001B[0m     margins_name,\n\u001B[0;32m    109\u001B[0m     observed,\n\u001B[0;32m    110\u001B[0m     sort,\n\u001B[0;32m    111\u001B[0m )\n\u001B[0;32m    112\u001B[0m \u001B[38;5;28;01mreturn\u001B[39;00m table\u001B[38;5;241m.\u001B[39m__finalize__(data, method\u001B[38;5;241m=\u001B[39m\u001B[38;5;124m\"\u001B[39m\u001B[38;5;124mpivot_table\u001B[39m\u001B[38;5;124m\"\u001B[39m)\n",
      "File \u001B[1;32m~\\anaconda3\\Lib\\site-packages\\pandas\\core\\reshape\\pivot.py:168\u001B[0m, in \u001B[0;36m__internal_pivot_table\u001B[1;34m(data, values, index, columns, aggfunc, fill_value, margins, dropna, margins_name, observed, sort)\u001B[0m\n\u001B[0;32m    165\u001B[0m             \u001B[38;5;28;01mpass\u001B[39;00m\n\u001B[0;32m    166\u001B[0m     values \u001B[38;5;241m=\u001B[39m \u001B[38;5;28mlist\u001B[39m(values)\n\u001B[1;32m--> 168\u001B[0m grouped \u001B[38;5;241m=\u001B[39m data\u001B[38;5;241m.\u001B[39mgroupby(keys, observed\u001B[38;5;241m=\u001B[39mobserved, sort\u001B[38;5;241m=\u001B[39msort, dropna\u001B[38;5;241m=\u001B[39mdropna)\n\u001B[0;32m    169\u001B[0m agged \u001B[38;5;241m=\u001B[39m grouped\u001B[38;5;241m.\u001B[39magg(aggfunc)\n\u001B[0;32m    171\u001B[0m \u001B[38;5;28;01mif\u001B[39;00m dropna \u001B[38;5;129;01mand\u001B[39;00m \u001B[38;5;28misinstance\u001B[39m(agged, ABCDataFrame) \u001B[38;5;129;01mand\u001B[39;00m \u001B[38;5;28mlen\u001B[39m(agged\u001B[38;5;241m.\u001B[39mcolumns):\n",
      "File \u001B[1;32m~\\anaconda3\\Lib\\site-packages\\pandas\\core\\frame.py:8869\u001B[0m, in \u001B[0;36mDataFrame.groupby\u001B[1;34m(self, by, axis, level, as_index, sort, group_keys, observed, dropna)\u001B[0m\n\u001B[0;32m   8866\u001B[0m \u001B[38;5;28;01mif\u001B[39;00m level \u001B[38;5;129;01mis\u001B[39;00m \u001B[38;5;28;01mNone\u001B[39;00m \u001B[38;5;129;01mand\u001B[39;00m by \u001B[38;5;129;01mis\u001B[39;00m \u001B[38;5;28;01mNone\u001B[39;00m:\n\u001B[0;32m   8867\u001B[0m     \u001B[38;5;28;01mraise\u001B[39;00m \u001B[38;5;167;01mTypeError\u001B[39;00m(\u001B[38;5;124m\"\u001B[39m\u001B[38;5;124mYou have to supply one of \u001B[39m\u001B[38;5;124m'\u001B[39m\u001B[38;5;124mby\u001B[39m\u001B[38;5;124m'\u001B[39m\u001B[38;5;124m and \u001B[39m\u001B[38;5;124m'\u001B[39m\u001B[38;5;124mlevel\u001B[39m\u001B[38;5;124m'\u001B[39m\u001B[38;5;124m\"\u001B[39m)\n\u001B[1;32m-> 8869\u001B[0m \u001B[38;5;28;01mreturn\u001B[39;00m DataFrameGroupBy(\n\u001B[0;32m   8870\u001B[0m     obj\u001B[38;5;241m=\u001B[39m\u001B[38;5;28mself\u001B[39m,\n\u001B[0;32m   8871\u001B[0m     keys\u001B[38;5;241m=\u001B[39mby,\n\u001B[0;32m   8872\u001B[0m     axis\u001B[38;5;241m=\u001B[39maxis,\n\u001B[0;32m   8873\u001B[0m     level\u001B[38;5;241m=\u001B[39mlevel,\n\u001B[0;32m   8874\u001B[0m     as_index\u001B[38;5;241m=\u001B[39mas_index,\n\u001B[0;32m   8875\u001B[0m     sort\u001B[38;5;241m=\u001B[39msort,\n\u001B[0;32m   8876\u001B[0m     group_keys\u001B[38;5;241m=\u001B[39mgroup_keys,\n\u001B[0;32m   8877\u001B[0m     observed\u001B[38;5;241m=\u001B[39mobserved,\n\u001B[0;32m   8878\u001B[0m     dropna\u001B[38;5;241m=\u001B[39mdropna,\n\u001B[0;32m   8879\u001B[0m )\n",
      "File \u001B[1;32m~\\anaconda3\\Lib\\site-packages\\pandas\\core\\groupby\\groupby.py:1278\u001B[0m, in \u001B[0;36mGroupBy.__init__\u001B[1;34m(self, obj, keys, axis, level, grouper, exclusions, selection, as_index, sort, group_keys, observed, dropna)\u001B[0m\n\u001B[0;32m   1275\u001B[0m \u001B[38;5;28mself\u001B[39m\u001B[38;5;241m.\u001B[39mdropna \u001B[38;5;241m=\u001B[39m dropna\n\u001B[0;32m   1277\u001B[0m \u001B[38;5;28;01mif\u001B[39;00m grouper \u001B[38;5;129;01mis\u001B[39;00m \u001B[38;5;28;01mNone\u001B[39;00m:\n\u001B[1;32m-> 1278\u001B[0m     grouper, exclusions, obj \u001B[38;5;241m=\u001B[39m get_grouper(\n\u001B[0;32m   1279\u001B[0m         obj,\n\u001B[0;32m   1280\u001B[0m         keys,\n\u001B[0;32m   1281\u001B[0m         axis\u001B[38;5;241m=\u001B[39maxis,\n\u001B[0;32m   1282\u001B[0m         level\u001B[38;5;241m=\u001B[39mlevel,\n\u001B[0;32m   1283\u001B[0m         sort\u001B[38;5;241m=\u001B[39msort,\n\u001B[0;32m   1284\u001B[0m         observed\u001B[38;5;241m=\u001B[39m\u001B[38;5;28;01mFalse\u001B[39;00m \u001B[38;5;28;01mif\u001B[39;00m observed \u001B[38;5;129;01mis\u001B[39;00m lib\u001B[38;5;241m.\u001B[39mno_default \u001B[38;5;28;01melse\u001B[39;00m observed,\n\u001B[0;32m   1285\u001B[0m         dropna\u001B[38;5;241m=\u001B[39m\u001B[38;5;28mself\u001B[39m\u001B[38;5;241m.\u001B[39mdropna,\n\u001B[0;32m   1286\u001B[0m     )\n\u001B[0;32m   1288\u001B[0m \u001B[38;5;28;01mif\u001B[39;00m observed \u001B[38;5;129;01mis\u001B[39;00m lib\u001B[38;5;241m.\u001B[39mno_default:\n\u001B[0;32m   1289\u001B[0m     \u001B[38;5;28;01mif\u001B[39;00m \u001B[38;5;28many\u001B[39m(ping\u001B[38;5;241m.\u001B[39m_passed_categorical \u001B[38;5;28;01mfor\u001B[39;00m ping \u001B[38;5;129;01min\u001B[39;00m grouper\u001B[38;5;241m.\u001B[39mgroupings):\n",
      "File \u001B[1;32m~\\anaconda3\\Lib\\site-packages\\pandas\\core\\groupby\\grouper.py:1009\u001B[0m, in \u001B[0;36mget_grouper\u001B[1;34m(obj, key, axis, level, sort, observed, validate, dropna)\u001B[0m\n\u001B[0;32m   1007\u001B[0m         in_axis, level, gpr \u001B[38;5;241m=\u001B[39m \u001B[38;5;28;01mFalse\u001B[39;00m, gpr, \u001B[38;5;28;01mNone\u001B[39;00m\n\u001B[0;32m   1008\u001B[0m     \u001B[38;5;28;01melse\u001B[39;00m:\n\u001B[1;32m-> 1009\u001B[0m         \u001B[38;5;28;01mraise\u001B[39;00m \u001B[38;5;167;01mKeyError\u001B[39;00m(gpr)\n\u001B[0;32m   1010\u001B[0m \u001B[38;5;28;01melif\u001B[39;00m \u001B[38;5;28misinstance\u001B[39m(gpr, Grouper) \u001B[38;5;129;01mand\u001B[39;00m gpr\u001B[38;5;241m.\u001B[39mkey \u001B[38;5;129;01mis\u001B[39;00m \u001B[38;5;129;01mnot\u001B[39;00m \u001B[38;5;28;01mNone\u001B[39;00m:\n\u001B[0;32m   1011\u001B[0m     \u001B[38;5;66;03m# Add key to exclusions\u001B[39;00m\n\u001B[0;32m   1012\u001B[0m     exclusions\u001B[38;5;241m.\u001B[39madd(gpr\u001B[38;5;241m.\u001B[39mkey)\n",
      "\u001B[1;31mKeyError\u001B[0m: 'Sex'"
     ]
    }
   ],
   "source": [
    "import pandas as pd\n",
    "\n",
    "# Load the Titanic dataset\n",
    "titanic_data = pd.read_csv('titanic (3).csv')\n",
    "\n",
    "# 1. Print a concise summary of the dataset\n",
    "print(\"1. Summary of the dataset:\")\n",
    "print(titanic_data.info())\n",
    "\n",
    "# 2. Extract column labels, shape, and data types\n",
    "print(\"\\n2. Column labels:\")\n",
    "print(titanic_data.columns)\n",
    "print(\"\\nShape of the dataset:\")\n",
    "print(titanic_data.shape)\n",
    "print(\"\\nData types of the dataset:\")\n",
    "print(titanic_data.dtypes)\n",
    "\n",
    "# 3. Create a Pivot table with multiple indexes\n",
    "print(\"\\n3. Pivot table with multiple indexes:\")\n",
    "pivot_table_multi_index = titanic_data.pivot_table(index=['Sex', 'Pclass'])\n",
    "print(pivot_table_multi_index)\n",
    "\n",
    "# 4. Create a Pivot table and find survival rate by gender on various classes\n",
    "print(\"\\n4. Survival rate by gender on various classes:\")\n",
    "pivot_table_gender_class = titanic_data.pivot_table('Survived', index='Sex', columns='Pclass', aggfunc='mean')\n",
    "print(pivot_table_gender_class)\n",
    "\n",
    "# 5. Create a Pivot table and find survival rate by gender\n",
    "print(\"\\n5. Survival rate by gender:\")\n",
    "pivot_table_gender = titanic_data.pivot_table('Survived', index='Sex', aggfunc='mean')\n",
    "print(pivot_table_gender)\n",
    "\n",
    "# 6. Create a Pivot table and find survival rate by gender, age-wise of various classes\n",
    "print(\"\\n6. Survival rate by gender, age-wise of various classes:\")\n",
    "bins = [0, 10, 30, 60, 80]\n",
    "labels = ['0-10', '10-30', '30-60', '60-80']\n",
    "titanic_data['AgeGroup'] = pd.cut(titanic_data['Age'], bins, labels=labels)\n",
    "pivot_table_age_gender_class = titanic_data.pivot_table('Survived', index=['Sex', 'AgeGroup'], columns='Pclass', aggfunc='mean')\n",
    "print(pivot_table_age_gender_class)\n",
    "\n",
    "# 7. Partition each passenger into four categories based on their age\n",
    "print(\"\\n7. Partitioning passengers into four categories based on their age:\")\n",
    "titanic_data['AgeCategory'] = pd.cut(titanic_data['Age'], bins=[0, 10, 30, 60, 80], labels=['0-10', '10-30', '30-60', '60-80'])\n",
    "print(titanic_data)\n",
    "\n",
    "# 8. Create a Pivot table and count survival by gender, categories wise age of various classes\n",
    "print(\"\\n8. Count survival by gender, categories wise age of various classes:\")\n",
    "pivot_table_survival_gender_age_class = titanic_data.pivot_table(index=['Sex', 'AgeCategory'], columns='Pclass', aggfunc={'Survived': 'sum'})\n",
    "print(pivot_table_survival_gender_age_class)\n",
    "\n",
    "# 9. Create a Pivot table and find survival rate by gender, age of different categories of various classes\n",
    "print(\"\\n9. Survival rate by gender, age of different categories of various classes:\")\n",
    "pivot_table_survival_rate_gender_age_class = titanic_data.pivot_table('Survived', index=['Sex', 'AgeCategory'], columns='Pclass', aggfunc='mean')\n",
    "print(pivot_table_survival_rate_gender_age_class)\n",
    "\n",
    "# 10. Create a Pivot table and find survival rate by gender, age of different categories of various classes with fare as a dimension of columns\n",
    "print(\"\\n10. Survival rate by gender, age of different categories of various classes with fare as a dimension of columns:\")\n",
    "fare_bins = [titanic_data['Fare'].min(), titanic_data['Fare'].median(), titanic_data['Fare'].max()]\n",
    "fare_labels = ['Low Fare', 'High Fare']\n",
    "titanic_data['FareCategory'] = pd.cut(titanic_data['Fare'], bins=fare_bins, labels=fare_labels)\n",
    "pivot_table_survival_fare_gender_age_class = titanic_data.pivot_table('Survived', index=['Sex', 'AgeCategory'], columns=['Pclass', 'FareCategory'], aggfunc='mean')\n",
    "print(pivot_table_survival_fare_gender_age_class)\n"
   ]
  },
  {
   "cell_type": "code",
   "outputs": [],
   "source": [],
   "metadata": {
    "collapsed": false,
    "ExecuteTime": {
     "end_time": "2024-03-28T22:59:24.400560Z",
     "start_time": "2024-03-28T22:59:24.378072Z"
    }
   },
   "id": "fbf37d13dd69d8da",
   "execution_count": 1
  },
  {
   "cell_type": "code",
   "outputs": [],
   "source": [],
   "metadata": {
    "collapsed": false,
    "ExecuteTime": {
     "end_time": "2024-03-28T22:55:18.705837Z",
     "start_time": "2024-03-28T22:55:18.700527Z"
    }
   },
   "id": "5272ae45d39b09d3",
   "execution_count": 0
  },
  {
   "cell_type": "code",
   "outputs": [],
   "source": [],
   "metadata": {
    "collapsed": false
   },
   "id": "593aed515a49e367"
  }
 ],
 "metadata": {
  "kernelspec": {
   "display_name": "Python 3",
   "language": "python",
   "name": "python3"
  },
  "language_info": {
   "codemirror_mode": {
    "name": "ipython",
    "version": 2
   },
   "file_extension": ".py",
   "mimetype": "text/x-python",
   "name": "python",
   "nbconvert_exporter": "python",
   "pygments_lexer": "ipython2",
   "version": "2.7.6"
  }
 },
 "nbformat": 4,
 "nbformat_minor": 5
}
