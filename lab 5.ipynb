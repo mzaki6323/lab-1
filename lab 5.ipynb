{
 "cells": [
  {
   "cell_type": "code",
   "execution_count": null,
   "id": "initial_id",
   "metadata": {
    "collapsed": true,
    "is_executing": true
   },
   "outputs": [],
   "source": [
    "import pandas as pd\n",
    "\n",
    "# Load the Titanic dataset\n",
    "titanic_data = pd.read_csv('titanic.csv')\n",
    "\n",
    "# 1. Print a concise summary of the dataset\n",
    "print(\"1. Summary of the dataset:\")\n",
    "print(titanic_data.info())\n",
    "\n",
    "# 2. Extract column labels, shape, and data types\n",
    "print(\"\\n2. Column labels:\")\n",
    "print(titanic_data.columns)\n",
    "print(\"\\nShape of the dataset:\")\n",
    "print(titanic_data.shape)\n",
    "print(\"\\nData types of the dataset:\")\n",
    "print(titanic_data.dtypes)\n",
    "\n",
    "# 3. Create a Pivot table with multiple indexes\n",
    "print(\"\\n3. Pivot table with multiple indexes:\")\n",
    "pivot_table_multi_index = titanic_data.pivot_table(index=['Sex', 'Pclass'])\n",
    "print(pivot_table_multi_index)\n",
    "\n",
    "# 4. Create a Pivot table and find survival rate by gender on various classes\n",
    "print(\"\\n4. Survival rate by gender on various classes:\")\n",
    "pivot_table_gender_class = titanic_data.pivot_table('Survived', index='Sex', columns='Pclass', aggfunc='mean')\n",
    "print(pivot_table_gender_class)\n",
    "\n",
    "# 5. Create a Pivot table and find survival rate by gender\n",
    "print(\"\\n5. Survival rate by gender:\")\n",
    "pivot_table_gender = titanic_data.pivot_table('Survived', index='Sex', aggfunc='mean')\n",
    "print(pivot_table_gender)\n",
    "\n",
    "# 6. Create a Pivot table and find survival rate by gender, age-wise of various classes\n",
    "print(\"\\n6. Survival rate by gender, age-wise of various classes:\")\n",
    "bins = [0, 10, 30, 60, 80]\n",
    "labels = ['0-10', '10-30', '30-60', '60-80']\n",
    "titanic_data['AgeGroup'] = pd.cut(titanic_data['Age'], bins, labels=labels)\n",
    "pivot_table_age_gender_class = titanic_data.pivot_table('Survived', index=['Sex', 'AgeGroup'], columns='Pclass', aggfunc='mean')\n",
    "print(pivot_table_age_gender_class)\n",
    "\n",
    "# 7. Partition each passenger into four categories based on their age\n",
    "print(\"\\n7. Partitioning passengers into four categories based on their age:\")\n",
    "titanic_data['AgeCategory'] = pd.cut(titanic_data['Age'], bins=[0, 10, 30, 60, 80], labels=['0-10', '10-30', '30-60', '60-80'])\n",
    "print(titanic_data)\n",
    "\n",
    "# 8. Create a Pivot table and count survival by gender, categories wise age of various classes\n",
    "print(\"\\n8. Count survival by gender, categories wise age of various classes:\")\n",
    "pivot_table_survival_gender_age_class = titanic_data.pivot_table(index=['Sex', 'AgeCategory'], columns='Pclass', aggfunc={'Survived': 'sum'})\n",
    "print(pivot_table_survival_gender_age_class)\n",
    "\n",
    "# 9. Create a Pivot table and find survival rate by gender, age of different categories of various classes\n",
    "print(\"\\n9. Survival rate by gender, age of different categories of various classes:\")\n",
    "pivot_table_survival_rate_gender_age_class = titanic_data.pivot_table('Survived', index=['Sex', 'AgeCategory'], columns='Pclass', aggfunc='mean')\n",
    "print(pivot_table_survival_rate_gender_age_class)\n",
    "\n",
    "# 10. Create a Pivot table and find survival rate by gender, age of different categories of various classes with fare as a dimension of columns\n",
    "print(\"\\n10. Survival rate by gender, age of different categories of various classes with fare as a dimension of columns:\")\n",
    "fare_bins = [titanic_data['Fare'].min(), titanic_data['Fare'].median(), titanic_data['Fare'].max()]\n",
    "fare_labels = ['Low Fare', 'High Fare']\n",
    "titanic_data['FareCategory'] = pd.cut(titanic_data['Fare'], bins=fare_bins, labels=fare_labels)\n",
    "pivot_table_survival_fare_gender_age_class = titanic_data.pivot_table('Survived', index=['Sex', 'AgeCategory'], columns=['Pclass', 'FareCategory'], aggfunc='mean')\n",
    "print(pivot_table_survival_fare_gender_age_class)\n"
   ]
  },
  {
   "cell_type": "code",
   "outputs": [],
   "source": [],
   "metadata": {
    "collapsed": false
   },
   "id": "fbf37d13dd69d8da"
  }
 ],
 "metadata": {
  "kernelspec": {
   "display_name": "Python 3",
   "language": "python",
   "name": "python3"
  },
  "language_info": {
   "codemirror_mode": {
    "name": "ipython",
    "version": 2
   },
   "file_extension": ".py",
   "mimetype": "text/x-python",
   "name": "python",
   "nbconvert_exporter": "python",
   "pygments_lexer": "ipython2",
   "version": "2.7.6"
  }
 },
 "nbformat": 4,
 "nbformat_minor": 5
}
