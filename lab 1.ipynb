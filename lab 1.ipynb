{
 "cells": [
  {
   "cell_type": "code",
   "execution_count": 22,
   "id": "initial_id",
   "metadata": {
    "collapsed": true,
    "ExecuteTime": {
     "end_time": "2024-03-01T00:27:55.493541Z",
     "start_time": "2024-03-01T00:27:55.436553Z"
    }
   },
   "outputs": [
    {
     "name": "stdout",
     "output_type": "stream",
     "text": [
      "[[11 12 13 14]\n",
      " [15 16 17 18]]\n",
      "1. Zeros array:\n",
      " [[0. 0. 0.]\n",
      " [0. 0. 0.]\n",
      " [0. 0. 0.]\n",
      " [0. 0. 0.]]\n",
      "\n",
      "2. Ones array:\n",
      " [[1. 1. 1. 1.]\n",
      " [1. 1. 1. 1.]\n",
      " [1. 1. 1. 1.]]\n",
      "\n",
      "3. Integer array: [ 4  5  6  7  8  9 10 11 12 13]\n",
      "\n",
      "4. Float array: [0.  1.5 3.  4.5]\n",
      "\n",
      "5. Array with '4' in each position:\n",
      " [[4 4]\n",
      " [4 4]]\n",
      "\n",
      "6.i. Identity matrix of size 4:\n",
      " [[1. 0. 0. 0.]\n",
      " [0. 1. 0. 0.]\n",
      " [0. 0. 1. 0.]\n",
      " [0. 0. 0. 1.]]\n",
      "\n",
      "6.ii. Diagonal matrix with [10, 12] as diagonals:\n",
      " [[10  0]\n",
      " [ 0 12]]\n",
      "\n",
      "7. Array with random floats in [0, 10]:\n",
      " [[3.0385445  8.12112277 5.75601177]\n",
      " [9.84510441 9.17655515 4.98054464]\n",
      " [2.85939424 3.27870379 1.75501915]]\n",
      "\n",
      "8. Array with random integers in [10, 20]:\n",
      " [[12 13 10]\n",
      " [13 12 14]\n",
      " [19 19 19]]\n",
      "a. Subarray of the first row and first 2 columns: [11 12]\n",
      "\n",
      "b. Array after changing elements in the first two rows to 0:\n",
      " [[ 0  0  0]\n",
      " [ 0  0  0]\n",
      " [17 18 19]]\n",
      "\n",
      "Reversed array: [20 19 18 17 16 15 14 13 12 11 10  9  8  7  6  5  4  3  2  1  0]\n",
      "Reshaped array with 3 rows:\n",
      " [[11 12]\n",
      " [13 14]\n",
      " [15 16]]\n",
      "1. Square of every number in the array: [ 0  1  4  9 16 25 36 49 64 81]\n",
      "\n",
      "2. Square root of every number in the array: [0.         1.         1.41421356 1.73205081 2.         2.23606798\n",
      " 2.44948974 2.64575131 2.82842712 3.        ]\n",
      "\n",
      "3. Result after multiplying the square of each number with its respective square root: [  0.           1.           5.65685425  15.58845727  32.\n",
      "  55.90169944  88.18163074 129.64181424 181.01933598 243.        ]\n",
      "1. Array after adding a new row:\n",
      " [[11 12 13]\n",
      " [14 15 16]\n",
      " [17 18 19]\n",
      " [20 21 22]]\n"
     ]
    },
    {
     "ename": "ValueError",
     "evalue": "all the input array dimensions except for the concatenation axis must match exactly, but along dimension 0, the array at index 0 has size 4 and the array at index 1 has size 3",
     "output_type": "error",
     "traceback": [
      "\u001B[0;31m---------------------------------------------------------------------------\u001B[0m",
      "\u001B[0;31mValueError\u001B[0m                                Traceback (most recent call last)",
      "Cell \u001B[0;32mIn[22], line 97\u001B[0m\n\u001B[1;32m     95\u001B[0m \u001B[38;5;66;03m# 2. Add a new column of elements containing 30, 40, and 50\u001B[39;00m\n\u001B[1;32m     96\u001B[0m new_column \u001B[38;5;241m=\u001B[39m np\u001B[38;5;241m.\u001B[39marray([[\u001B[38;5;241m30\u001B[39m], [\u001B[38;5;241m40\u001B[39m], [\u001B[38;5;241m50\u001B[39m]])\n\u001B[0;32m---> 97\u001B[0m myArray \u001B[38;5;241m=\u001B[39m \u001B[43mnp\u001B[49m\u001B[38;5;241;43m.\u001B[39;49m\u001B[43mconcatenate\u001B[49m\u001B[43m(\u001B[49m\u001B[43m(\u001B[49m\u001B[43mmyArray\u001B[49m\u001B[43m,\u001B[49m\u001B[43m \u001B[49m\u001B[43mnew_column\u001B[49m\u001B[43m)\u001B[49m\u001B[43m,\u001B[49m\u001B[43m \u001B[49m\u001B[43maxis\u001B[49m\u001B[38;5;241;43m=\u001B[39;49m\u001B[38;5;241;43m1\u001B[39;49m\u001B[43m)\u001B[49m\n\u001B[1;32m     98\u001B[0m \u001B[38;5;28mprint\u001B[39m(\u001B[38;5;124m\"\u001B[39m\u001B[38;5;130;01m\\n\u001B[39;00m\u001B[38;5;124m2. Array after adding a new column:\u001B[39m\u001B[38;5;130;01m\\n\u001B[39;00m\u001B[38;5;124m\"\u001B[39m, myArray)\n\u001B[1;32m    100\u001B[0m \u001B[38;5;66;03m#INSERTING ELEMENT\u001B[39;00m\n",
      "\u001B[0;31mValueError\u001B[0m: all the input array dimensions except for the concatenation axis must match exactly, but along dimension 0, the array at index 0 has size 4 and the array at index 1 has size 3"
     ]
    }
   ],
   "source": [
    "import numpy as np\n",
    "\n",
    "# Create the 2D array\n",
    "my_array = np.array([[11, 12, 13, 14],\n",
    "                     [15, 16, 17, 18]])\n",
    "print(my_array)\n",
    "# Creating arrays\n",
    "# 1. Create an array with 4 rows and 3 columns of zeros\n",
    "zeros_array = np.zeros((4, 3))\n",
    "print(\"1. Zeros array:\\n\", zeros_array)\n",
    "\n",
    "# 2. Create an array of ones that has 3 rows and 4 columns\n",
    "ones_array = np.ones((3, 4))\n",
    "print(\"\\n2. Ones array:\\n\", ones_array)\n",
    "\n",
    "# 3. Create an array containing integers 4 to 13 inclusive\n",
    "int_array = np.arange(4, 14)\n",
    "print(\"\\n3. Integer array:\", int_array)\n",
    "\n",
    "# 4. Create an array containing [0., 1.5, 3., 4.5]\n",
    "float_array = np.array([0., 1.5, 3., 4.5])\n",
    "print(\"\\n4. Float array:\", float_array)\n",
    "\n",
    "# 5. Create a 2 by 2 array containing '4' in each position\n",
    "four_array = np.full((2, 2), 4)\n",
    "print(\"\\n5. Array with '4' in each position:\\n\", four_array)\n",
    "\n",
    "# 6. Create matrices\n",
    "# i. Identity matrix of size 4\n",
    "identity_matrix = np.eye(4)\n",
    "print(\"\\n6.i. Identity matrix of size 4:\\n\", identity_matrix)\n",
    "\n",
    "# ii. Diagonal matrix with [10,12] as the diagonals\n",
    "diagonal_matrix = np.diag([10, 12])\n",
    "print(\"\\n6.ii. Diagonal matrix with [10, 12] as diagonals:\\n\", diagonal_matrix)\n",
    "\n",
    "# 7. Create a 3 by 3 array with random floats in [0, 10]\n",
    "random_floats_array = np.random.uniform(0, 10, (3, 3))\n",
    "print(\"\\n7. Array with random floats in [0, 10]:\\n\", random_floats_array)\n",
    "\n",
    "# 8. Create a 3 by 3 array with random integers in [10, 20]\n",
    "random_integers_array = np.random.randint(10, 21, (3, 3))\n",
    "print(\"\\n8. Array with random integers in [10, 20]:\\n\", random_integers_array)\n",
    "\n",
    "#slicing arrays\n",
    "# 1. Use this array for the following practice:\n",
    "myArray = np.array([[11,12,13], [14,15,16], [17,18,19]])\n",
    "\n",
    "# a. Get a subarray of the first row and first 2 columns\n",
    "sub_array = myArray[0, :2]\n",
    "print(\"a. Subarray of the first row and first 2 columns:\", sub_array)\n",
    "\n",
    "# b. Change all elements in 1st and second row to 0\n",
    "myArray[:2, :] = 0\n",
    "print(\"\\nb. Array after changing elements in the first two rows to 0:\\n\", myArray)\n",
    "\n",
    "# 2. Create an array that contains [0,1,2,3,4,5,6,7,8,9,10,11,12,13,14,15,16,17,18,19,20] and reverse the order.\n",
    "array_reverse = np.arange(21)\n",
    "array_reverse = np.flip(array_reverse)\n",
    "print(\"\\nReversed array:\", array_reverse)\n",
    "\n",
    "#RESHAPING\n",
    "# Use the given array\n",
    "myArray = np.array([[11,12,13], [14,15,16]])\n",
    "\n",
    "# Reshape the array to have 3 rows\n",
    "reshaped_array = myArray.reshape(3, -1)\n",
    "\n",
    "print(\"Reshaped array with 3 rows:\\n\", reshaped_array)\n",
    "\n",
    "#math\n",
    "# Use the given array\n",
    "myArray = np.arange(10)\n",
    "\n",
    "# 1. Find the square of every number in array\n",
    "squared_array = np.square(myArray)\n",
    "print(\"1. Square of every number in the array:\", squared_array)\n",
    "\n",
    "# 2. Find the square root of every number in array\n",
    "sqrt_array = np.sqrt(myArray)\n",
    "print(\"\\n2. Square root of every number in the array:\", sqrt_array)\n",
    "\n",
    "# 3. Multiply the square of each number in array with its respective square root\n",
    "result_array = squared_array * sqrt_array\n",
    "print(\"\\n3. Result after multiplying the square of each number with its respective square root:\", result_array)\n",
    "\n",
    "#ADDING ELEMENTS\n",
    "myArray = np.array([[11,12,13], [14,15,16], [17,18,19]])\n",
    "\n",
    "# 1. Add a new row of elements containing 20, 21, and 22\n",
    "new_row = np.array([[20, 21, 22]])\n",
    "myArray = np.concatenate((myArray, new_row), axis=0)\n",
    "print(\"1. Array after adding a new row:\\n\", myArray)\n",
    "\n",
    "# 2. Add a new column of elements containing 30, 40, and 50\n",
    "new_column = np.array([[30], [40], [50]])\n",
    "myArray = np.concatenate((myArray, new_column), axis=1)\n",
    "print(\"\\n2. Array after adding a new column:\\n\", myArray)\n",
    "\n",
    "#INSERTING ELEMENT\n",
    "myArray = np.zeros((2, 2))\n",
    "myArray = np.insert(myArray, 2, 1, axis=1)\n",
    "print(\"1. Array after adding 1 column of 1:\\n\", myArray)\n",
    "\n",
    "# 2. Add 2 rows of 2 to the answer from part 1\n",
    "myArray = np.insert(myArray, 2, 2, axis=0)\n",
    "print(\"\\n2. Array after adding 2 rows of 2:\\n\", myArray)\n",
    "\n",
    "# 3. Remove the last column\n",
    "myArray = np.delete(myArray, -1, axis=1)\n",
    "print(\"\\n3. Array after removing the last column:\\n\", myArray)\n",
    "\n",
    "# 4. Remove the last row\n",
    "myArray = np.delete(myArray, -1, axis=0)\n",
    "print(\"\\n4. Array after removing the last row:\\n\", myArray)\n",
    "\n",
    "#DELETING ELEMENTS\n",
    "myArray = np.matrix([[1, 2, 3], [4, 5, 6], [9, 8, 7]])\n",
    "\n",
    "# Remove the middle column\n",
    "myArray = np.delete(myArray, 1, axis=1)\n",
    "\n",
    "print(\"Array after removing the middle column:\\n\", myArray)\n",
    "\n",
    "#TEST EXERCISE\n",
    "#Replace all odd numbers in the given array with -1\n",
    "# Given array\n",
    "exercise_1 = np.array([0, 1, 2, 3, 4, 5, 6, 7, 8, 9])\n",
    "\n",
    "# Replace odd numbers with -1\n",
    "exercise_1[exercise_1 % 2 != 0] = -1\n",
    "\n",
    "print(\"Modified array:\", exercise_1)\n",
    "\n",
    "#Convert a 1-D array into a 2-D array with 3 rows\n",
    "# Given array\n",
    "exercise_2 = np.array([0, 1, 2, 3, 4, 5, 6, 7, 8])\n",
    "\n",
    "# Reshape the array to have 3 rows\n",
    "exercise_2_reshaped = exercise_2.reshape(3, -1)\n",
    "\n",
    "print(\"2-D array with 3 rows:\\n\", exercise_2_reshaped)\n",
    "#Add 202 to all the values in given array\n",
    "# Given array\n",
    "exercise_3 = np.arange(4).reshape(2, -1)\n",
    "\n",
    "# Add 202 to all values in the array\n",
    "exercise_3 += 202\n",
    "\n",
    "print(\"Modified array:\\n\", exercise_3)\n",
    "\n",
    "#Generate a 1-D array of 10 random integers. Each integer should be a number between 30 and 40 (inclusive)\n",
    "random_integers = np.random.randint(30, 41, size=10)\n",
    "\n",
    "print(\"Random integers between 30 and 40:\", random_integers)\n",
    "\n",
    "# Given arrays\n",
    "x = np.array([21, 64, 86, 22, 74, 55, 81, 79, 90, 89]) \n",
    "y = np.array([21, 7, 3, 45, 10, 29, 55, 4, 37, 18])\n",
    "\n",
    "# Find positions where x > y\n",
    "positions_greater = np.where(x > y)\n",
    "\n",
    "# Find positions where x == y\n",
    "positions_equal = np.where(x == y)\n",
    "\n",
    "print(\"Positions where x > y:\", positions_greater)\n",
    "print(\"Positions where x == y:\", positions_equal)\n",
    "# Given array\n",
    "exercise_6 = np.arange(100).reshape(5, -1)\n",
    "\n",
    "# Extract the first four columns\n",
    "first_four_columns = exercise_6[:, :4]\n",
    "\n",
    "print(\"First four columns of the array:\\n\", first_four_columns)\n"
   ]
  },
  {
   "cell_type": "code",
   "outputs": [],
   "source": [],
   "metadata": {
    "collapsed": false,
    "ExecuteTime": {
     "end_time": "2024-02-29T23:51:51.878637Z",
     "start_time": "2024-02-29T23:51:51.759906Z"
    }
   },
   "id": "5f85c669cffcd9db",
   "execution_count": 13
  },
  {
   "cell_type": "code",
   "outputs": [],
   "source": [],
   "metadata": {
    "collapsed": false
   },
   "id": "709711a177b9e8fb",
   "execution_count": null
  },
  {
   "cell_type": "code",
   "outputs": [],
   "source": [],
   "metadata": {
    "collapsed": false
   },
   "id": "e5055d28fc8e6205",
   "execution_count": null
  },
  {
   "cell_type": "code",
   "outputs": [],
   "source": [],
   "metadata": {
    "collapsed": false
   },
   "id": "1b744355b76b31a4",
   "execution_count": null
  },
  {
   "cell_type": "code",
   "outputs": [],
   "source": [],
   "metadata": {
    "collapsed": false
   },
   "id": "bf26d85e8bb07df3",
   "execution_count": null
  },
  {
   "cell_type": "code",
   "outputs": [],
   "source": [],
   "metadata": {
    "collapsed": false
   },
   "id": "a860d4fa8ebe7da9",
   "execution_count": null
  },
  {
   "cell_type": "code",
   "outputs": [],
   "source": [],
   "metadata": {
    "collapsed": false
   },
   "id": "283a9093205249c",
   "execution_count": null
  },
  {
   "cell_type": "code",
   "outputs": [],
   "source": [],
   "metadata": {
    "collapsed": false
   },
   "id": "63171b6edd67b058",
   "execution_count": null
  },
  {
   "cell_type": "code",
   "outputs": [],
   "source": [],
   "metadata": {
    "collapsed": false
   },
   "id": "bd38fe65515ef61c",
   "execution_count": null
  },
  {
   "cell_type": "code",
   "outputs": [],
   "source": [],
   "metadata": {
    "collapsed": false
   },
   "id": "3759f57561cd5fe4",
   "execution_count": null
  },
  {
   "cell_type": "code",
   "outputs": [],
   "source": [],
   "metadata": {
    "collapsed": false
   },
   "id": "f54d4f52e1098333",
   "execution_count": null
  },
  {
   "cell_type": "code",
   "outputs": [],
   "source": [],
   "metadata": {
    "collapsed": false
   },
   "id": "c57cb9dd2980af0f",
   "execution_count": null
  },
  {
   "cell_type": "code",
   "outputs": [],
   "source": [],
   "metadata": {
    "collapsed": false
   },
   "id": "5a5b8bfab4e6a87d",
   "execution_count": null
  },
  {
   "cell_type": "code",
   "outputs": [],
   "source": [],
   "metadata": {
    "collapsed": false
   },
   "id": "55a9079c09432577",
   "execution_count": null
  },
  {
   "cell_type": "code",
   "outputs": [],
   "source": [],
   "metadata": {
    "collapsed": false
   },
   "id": "12300c82d30a06a8",
   "execution_count": null
  }
 ],
 "metadata": {
  "kernelspec": {
   "display_name": "Python 3",
   "language": "python",
   "name": "python3"
  },
  "language_info": {
   "codemirror_mode": {
    "name": "ipython",
    "version": 2
   },
   "file_extension": ".py",
   "mimetype": "text/x-python",
   "name": "python",
   "nbconvert_exporter": "python",
   "pygments_lexer": "ipython2",
   "version": "2.7.6"
  }
 },
 "nbformat": 4,
 "nbformat_minor": 5
}
