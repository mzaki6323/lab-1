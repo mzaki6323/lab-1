{
 "cells": [
  {
   "cell_type": "code",
   "execution_count": null,
   "id": "initial_id",
   "metadata": {
    "collapsed": true,
    "is_executing": true
   },
   "outputs": [],
   "source": [
    "import numpy as np\n",
    "import pandas as pd\n",
    "from sklearn.datasets import load_breast_cancer\n",
    "from sklearn.model_selection import train_test_split\n",
    "from sklearn.neighbors import KNeighborsClassifier\n",
    "\n",
    "def answer_questions():\n",
    "    # Load the breast cancer dataset\n",
    "    cancer = load_breast_cancer()\n",
    "\n",
    "    # Question 0: Number of features\n",
    "    num_features = cancer.data.shape[1]\n",
    "\n",
    "    # Question 1: Create DataFrame\n",
    "    df = pd.DataFrame(data=cancer.data, columns=cancer.feature_names)\n",
    "    df['target'] = cancer.target\n",
    "\n",
    "    # Question 2: Class distribution\n",
    "    class_distribution = df['target'].value_counts()\n",
    "\n",
    "    # Question 3: Split DataFrame into X and y\n",
    "    X = df.drop('target', axis=1)\n",
    "    y = df['target']\n",
    "\n",
    "    # Question 4: Split data into training and test sets\n",
    "    X_train, X_test, y_train, y_test = train_test_split(X, y, random_state=0)\n",
    "\n",
    "    # Question 5: Fit a k-nearest neighbors classifier with one nearest neighbor\n",
    "    knn = KNeighborsClassifier(n_neighbors=1)\n",
    "    knn.fit(X_train, y_train)\n",
    "\n",
    "    # Question 6: Predict the class label using the mean value for each feature\n",
    "    mean_values = df.mean()[:-1].values.reshape(1, -1)\n",
    "    prediction = knn.predict(mean_values)\n",
    "\n",
    "    # Question 7: Predict class labels for the test set X_test\n",
    "    y_pred = knn.predict(X_test)\n",
    "\n",
    "    # Question 8: Find the score (mean accuracy) of the knn classifier\n",
    "    accuracy = knn.score(X_test, y_test)\n",
    "\n",
    "    return num_features, class_distribution, (X, y), (X_train, X_test, y_train, y_test), knn, prediction, y_pred, accuracy\n",
    "\n",
    "num_features, class_distribution, data_split, train_test_sets, knn_classifier, mean_prediction, y_pred, accuracy = answer_questions()\n",
    "\n",
    "print(\"Question 0: Number of features =\", num_features)\n",
    "print(\"\\nQuestion 1: Class distribution:\")\n",
    "print(class_distribution)\n",
    "print(\"\\nQuestion 2: Split DataFrame into X and y:\")\n",
    "print(\"X shape:\", data_split[0].shape)\n",
    "print(\"y shape:\", data_split[1].shape)\n",
    "print(\"\\nQuestion 3: Split data into training and test sets:\")\n",
    "print(\"X_train shape:\", train_test_sets[0].shape)\n",
    "print(\"X_test shape:\", train_test_sets[1].shape)\n",
    "print(\"y_train shape:\", train_test_sets[2].shape)\n",
    "print(\"y_test shape:\", train_test_sets[3].shape)\n",
    "print(\"\\nQuestion 4: Fitted KNeighborsClassifier:\")\n",
    "print(knn_classifier)\n",
    "print(\"\\nQuestion 5: Predictions using mean values for each feature:\", mean_prediction)\n",
    "print(\"\\nQuestion 6: Predicted class labels for the test set X_test:\")\n",
    "print(y_pred)\n",
    "print(\"\\nQuestion 7: Score (mean accuracy) of the knn classifier:\", accuracy)\n"
   ]
  },
  {
   "cell_type": "code",
   "outputs": [],
   "source": [],
   "metadata": {
    "collapsed": false
   },
   "id": "bdbb3109eedd027c"
  }
 ],
 "metadata": {
  "kernelspec": {
   "display_name": "Python 3",
   "language": "python",
   "name": "python3"
  },
  "language_info": {
   "codemirror_mode": {
    "name": "ipython",
    "version": 2
   },
   "file_extension": ".py",
   "mimetype": "text/x-python",
   "name": "python",
   "nbconvert_exporter": "python",
   "pygments_lexer": "ipython2",
   "version": "2.7.6"
  }
 },
 "nbformat": 4,
 "nbformat_minor": 5
}
